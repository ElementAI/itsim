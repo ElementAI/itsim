{
 "cells": [
  {
   "cell_type": "markdown",
   "metadata": {},
   "source": [
    "# Malware Simulation Demo / Happy Holidays\n",
    "\n",
    ". | .\n",
    "- | - \n",
    "![alt](gift.png) | ![alt](Element-AI-Symbol-RGB.jpg)\n",
    "\n",
    "This notebook shows how to run a simple ITSim simulation and collect its telemetry data from a datastore server. Then it quickly overlooks the generated data by showing the telemetry records and plotting the chronological graphs of events.\n"
   ]
  },
  {
   "cell_type": "markdown",
   "metadata": {},
   "source": [
    "## Step 1:  Launch a Datastore Server to collect simulation data\n",
    "\n",
    "This server collects ITSim telemetry and logs over a REST API and archives them into a Database (SQLite db). This server is running throughout the simulations. It could be used to collect data from simulations running simultaneously on multiple machines.    "
   ]
  },
  {
   "cell_type": "code",
   "execution_count": null,
   "metadata": {},
   "outputs": [],
   "source": [
    "import os\n",
    "\n",
    "DB_FILE = \"malware_simulation_1.sqlite\"\n",
    "HOSTNAME = \"localhost\"\n",
    "SERVER_PORT = \"5000\"\n",
    "\n",
    "os.system(f'python ../bin/itsim_serve_datastore.py --sqlite_file {DB_FILE} --host {HOSTNAME} --port {SERVER_PORT} &')"
   ]
  },
  {
   "cell_type": "markdown",
   "metadata": {},
   "source": [
    "## Step 2:  Run ITSim Simulations"
   ]
  },
  {
   "cell_type": "markdown",
   "metadata": {},
   "source": [
    "### Define Simulation Parameters"
   ]
  },
  {
   "cell_type": "code",
   "execution_count": null,
   "metadata": {},
   "outputs": [],
   "source": [
    "import ipywidgets as widgets\n",
    "from IPython.display import display\n",
    "from ipywidgets import interact, interactive, fixed, interact_manual\n",
    "\n",
    "def set_simulation_parameters(sim_runs, network_topology,nb_endpoints, backdoor_random_start):\n",
    "    return {'sim_runs':sim_runs,\n",
    "            'network_topology':network_topology,\n",
    "            'nb_endpoints':nb_endpoints,\n",
    "            'backdoor_random_start':backdoor_random_start}\n",
    "            \n",
    "style={'description_width': 'initial'}\n",
    "\n",
    "sim_runs_widget = widgets.IntSlider(value=4,\n",
    "                                    min=1,\n",
    "                                    max=10,\n",
    "                                    description='Simulations:',\n",
    "                                    style=style)\n",
    "\n",
    "network_topology_widget = widgets.Dropdown(options=['Flat + Internet'],\n",
    "                                           value='Flat + Internet',\n",
    "                                           description='Topology:',\n",
    "                                           style=style)\n",
    "\n",
    "nb_endpoints_widget = widgets.IntSlider(value=20,\n",
    "                                        min=2,\n",
    "                                        max=65000,\n",
    "                                        description='Endpoints:',\n",
    "                                        style=style)\n",
    "\n",
    "backdoor_random_start_widget = widgets.IntRangeSlider(value=[15, 45],\n",
    "                                                   min=1,\n",
    "                                                   max=100,\n",
    "                                                   description='Backdoor Uni(a,b):',\n",
    "                                                   style=style)\n",
    "\n",
    "sim = interactive(set_simulation_parameters, \n",
    "                sim_runs=sim_runs_widget, \n",
    "                network_topology=network_topology_widget,\n",
    "                nb_endpoints=nb_endpoints_widget,\n",
    "                backdoor_random_start = backdoor_random_start_widget)\n",
    "display(sim)\n"
   ]
  },
  {
   "cell_type": "markdown",
   "metadata": {},
   "source": [
    "### Setting up a simulation runner"
   ]
  },
  {
   "cell_type": "code",
   "execution_count": null,
   "metadata": {},
   "outputs": [],
   "source": [
    "def run_simulations(sim_cfg, sim_fct):\n",
    "    print(f\"Running {sim_cfg.result['sim_runs']} simulations based on the following configuration:\")\n",
    "    print(f\"\\t- Network Topology: \\t\\t\\t\\t\\t{sim_cfg.result['network_topology']}\")\n",
    "    print(f\"\\t- Number of servers: \\t\\t\\t\\t\\t1\")\n",
    "    print(f\"\\t- Number of Endpoints: \\t\\t\\t\\t\\t{sim_cfg.result['nb_endpoints']}\")\n",
    "    print(f\"\\t- Random backdoor callback based on distribution: \\tUniform({sim_cfg.result['backdoor_random_start'][0]},{sim_cfg.result['backdoor_random_start'][1]})\")\n",
    "\n",
    "    bar = widgets.IntProgress(value=0,\n",
    "                              min=0,\n",
    "                              max=sim_cfg.result['sim_runs'],\n",
    "                              step=1,\n",
    "                              description='Progress:',\n",
    "                              bar_style='info', \n",
    "                              orientation='horizontal')\n",
    "    display(bar)\n",
    "\n",
    "    for _ in range(sim_cfg.result['sim_runs']):\n",
    "        sim_fct\n",
    "        bar.value+=1 "
   ]
  },
  {
   "cell_type": "markdown",
   "metadata": {},
   "source": [
    "### Define the ITSim Simulation"
   ]
  },
  {
   "cell_type": "code",
   "execution_count": null,
   "metadata": {},
   "outputs": [],
   "source": [
    "from greensim.random import expo, constant\n",
    "from itsim import malware\n",
    "from itsim.datastore.datastore import DatastoreClientFactory\n",
    "from itsim.machine.endpoint import Endpoint\n",
    "from itsim.network.link import Link\n",
    "from itsim.simulator import Simulator, advance\n",
    "from itsim.software.context import Context\n",
    "from itsim.types import as_cidr, Protocol\n",
    "from itsim.units import MbPS, MS, S"
   ]
  },
  {
   "cell_type": "code",
   "execution_count": null,
   "metadata": {},
   "outputs": [],
   "source": [
    "PORT = 5678\n",
    "CIDR = as_cidr(\"192.168.1.0/24\")\n",
    "NUM_CLIENTS = 5\n",
    "DELAY_PING = expo(2.0 * S)\n",
    "\n",
    "def serve_pongs(context: Context) -> None:\n",
    "    with context.node.bind(Protocol.UDP, PORT) as socket:\n",
    "        while True:\n",
    "            packet = socket.recv()\n",
    "            socket.send(packet.source, 4, {\"what\": \"pong\"})\n",
    "\n",
    "\n",
    "def ask_ping(context: Context) -> None:\n",
    "    advance(next(DELAY_PING))\n",
    "    with context.node.bind(Protocol.UDP) as socket:\n",
    "        socket.send((CIDR.network_address + 1, PORT), 4, {\"what\": \"ping\"})\n",
    "        socket.recv()\n",
    "\n",
    "\n",
    "@malware\n",
    "def backdoor(context: Context) -> None:\n",
    "    advance(1.0 * S)\n",
    "    ask_ping(context)\n",
    "\n",
    "\n",
    "def control(sim, pings):\n",
    "    advance(10000)\n",
    "    for proc_pinger in pings:\n",
    "        proc_pinger.wait(NUM_CLIENTS * S)\n",
    "    sim.stop()\n",
    "\n",
    "\n",
    "def test_endpoint_telemetry():\n",
    "    with Simulator() as sim:\n",
    "        DatastoreClientFactory().sim_uuid = sim.uuid\n",
    "        link = Link(CIDR, expo(10 * MS), constant(100 * MbPS))\n",
    "        server = Endpoint().connected_to_static(link, 1)\n",
    "        server.run_proc(sim, serve_pongs)\n",
    "\n",
    "        endpoints = [Endpoint().connected_to_static(link, 100 + n) for n in range(NUM_CLIENTS)]\n",
    "        pings = [endpoint.run_proc(sim, ask_ping) for endpoint in endpoints]\n",
    "        endpoints[-1].run_proc(sim, backdoor)\n",
    "\n",
    "        sim.add(control, sim, pings)\n",
    "        sim.run()\n",
    "        return sim.uuid\n",
    "    \n",
    "\n"
   ]
  },
  {
   "cell_type": "code",
   "execution_count": null,
   "metadata": {},
   "outputs": [],
   "source": [
    "run_simulations(sim, test_endpoint_telemetry)"
   ]
  },
  {
   "cell_type": "markdown",
   "metadata": {},
   "source": [
    "## Step 3: Shutting down the Datastore Server\n",
    "We're done with the datastore server, we can close it. "
   ]
  },
  {
   "cell_type": "code",
   "execution_count": null,
   "metadata": {},
   "outputs": [],
   "source": [
    "import requests\n",
    "\n",
    "try: \n",
    "    response = requests.post(f'http://{HOSTNAME}:{SERVER_PORT}/stop')\n",
    "    print(\"Server properly shutdown\")\n",
    "except:\n",
    "    print(\"Can't reach the server to shut it down\")"
   ]
  },
  {
   "cell_type": "markdown",
   "metadata": {},
   "source": [
    "## Step 4: Retrieve Simulation Telemetry\n",
    "\n",
    "Now that the simulations ran to completion, we can access the data collected by the datastore (SQLite database).\n",
    "\n",
    "The datastore is storing telemetry events as JSON strings into a SQLite database (for the convenience of quick prototyping). This is a quick preview of what the data looks like using Pandas. "
   ]
  },
  {
   "cell_type": "code",
   "execution_count": null,
   "metadata": {},
   "outputs": [],
   "source": [
    "import sqlite3\n",
    "import pandas as pd\n",
    "import json\n",
    "\n",
    "conn = sqlite3.connect(DB_FILE)\n",
    "df = pd.read_sql_query(\"SELECT * FROM network_event;\", conn)\n",
    "df"
   ]
  },
  {
   "cell_type": "markdown",
   "metadata": {},
   "source": [
    "From this dataframe, we can load the json data and list the fields of the telemetry events: "
   ]
  },
  {
   "cell_type": "code",
   "execution_count": null,
   "metadata": {},
   "outputs": [],
   "source": [
    "simulations = df.sim_uuid.unique()\n",
    "print(f\"Telemetry events for {len(simulations)} simulations\")\n",
    "df_json = []\n",
    "\n",
    "simulations_data = {}\n",
    "for sim in simulations:\n",
    "    df2 = df.loc[df['sim_uuid'] == sim]\n",
    "    df2 = df2.set_index(\"timestamp\", drop = False)\n",
    "    df1 = df2.loc[:, 'json'].to_frame()\n",
    "    entry_list = []\n",
    "    for _, row in df1.iterrows():\n",
    "        entry_list.append(json.loads(row.json))\n",
    "    simulations_data[sim] = entry_list\n",
    "\n",
    "for sim_uuid, telemetry_list in simulations_data.items():\n",
    "    print(f\"\\nSimulation {sim_uuid}\\n\")\n",
    "    for telemetry in telemetry_list:\n",
    "        print(f\"Telemetry {telemetry['uuid']}\")\n",
    "        for key, value in telemetry.items():\n",
    "            print(f\"\\t{key}: {value}\")\n"
   ]
  },
  {
   "cell_type": "markdown",
   "metadata": {},
   "source": [
    "## Step 5: Plot Telemetry Data\n",
    "Here is a \"quick and dirty approach\" to plot telemetry events chronologically: "
   ]
  },
  {
   "cell_type": "code",
   "execution_count": null,
   "metadata": {
    "scrolled": true
   },
   "outputs": [],
   "source": [
    "import ast\n",
    "import random\n",
    "from plotly import __version__\n",
    "from plotly.offline import download_plotlyjs, init_notebook_mode, plot, iplot\n",
    "import plotly.figure_factory as ff\n",
    "print(__version__) # requires version >= 1.9.0\n",
    "\n",
    "def plot_simulation_telemetry_events(conn, sim_uuid):\n",
    "    node_uuid_idx = 0\n",
    "    node_timestamp_idx = 1\n",
    "    node_simulation_idx = 2\n",
    "    node_json_idx = 3\n",
    "    df = []\n",
    "\n",
    "    print(f\"Simulation: {sim_uuid}\")\n",
    "    with conn:\n",
    "        cursor = conn.cursor()\n",
    "        cursor.execute(f'SELECT * FROM network_event WHERE \"sim_uuid\"=\"{sim_uuid}\"')\n",
    "        all_entries = cursor.fetchall()    \n",
    "        cnt = 0\n",
    "        colors = []\n",
    "        net_events_post_proc = []\n",
    "\n",
    "        for network_event in all_entries:\n",
    "            data = ast.literal_eval(network_event[node_json_idx])      \n",
    "            uuid_node = data[\"uuid_node\"]\n",
    "            event_info = {\"uuid_node\": uuid_node,\"start\":\"\",\"stop\":\"\"}\n",
    "            net_events_post_proc.append(event_info)\n",
    "\n",
    "        for network_event in all_entries:\n",
    "            data = ast.literal_eval(network_event[node_json_idx])      \n",
    "            uuid_node = data[\"uuid_node\"]   \n",
    "            event_dict = next(item for item in net_events_post_proc if item[\"uuid_node\"] == uuid_node)\n",
    "            if event_dict[\"start\"]==\"\":\n",
    "                event_dict[\"start\"]=network_event[node_timestamp_idx]\n",
    "            else:\n",
    "                event_dict[\"stop\"]=network_event[node_timestamp_idx]\n",
    "\n",
    "        for network_event_dict in net_events_post_proc:\n",
    "            if network_event_dict[\"start\"] is not \"\" and network_event_dict[\"stop\"] is not \"\":\n",
    "                colors.append((random.uniform(0, 1),random.uniform(0, 1),random.uniform(0, 1)))\n",
    "                df.append(dict(Task=network_event_dict[\"uuid_node\"], Start=network_event_dict[\"start\"], Finish=network_event_dict[\"stop\"], Event_Name=\"connection\"))\n",
    "        init_notebook_mode(connected=True)\n",
    "        fig = ff.create_gantt(df, title=\"ITsim Network Events\", colors=colors, index_col='Event_Name', showgrid_x=True, showgrid_y=True, show_colorbar=True, group_tasks=True)\n",
    "        iplot(fig)\n"
   ]
  },
  {
   "cell_type": "markdown",
   "metadata": {},
   "source": [
    "We're now calling this function for every simulations ran:"
   ]
  },
  {
   "cell_type": "code",
   "execution_count": null,
   "metadata": {
    "scrolled": false
   },
   "outputs": [],
   "source": [
    "for sim_uuid in simulations:\n",
    "    plot_simulation_telemetry_events(conn, sim_uuid)"
   ]
  },
  {
   "cell_type": "markdown",
   "metadata": {},
   "source": [
    "# THANKS!!\n"
   ]
  }
 ],
 "metadata": {
  "kernelspec": {
   "display_name": "Python 3",
   "language": "python",
   "name": "python3"
  },
  "language_info": {
   "codemirror_mode": {
    "name": "ipython",
    "version": 3
   },
   "file_extension": ".py",
   "mimetype": "text/x-python",
   "name": "python",
   "nbconvert_exporter": "python",
   "pygments_lexer": "ipython3",
   "version": "3.6.7"
  }
 },
 "nbformat": 4,
 "nbformat_minor": 2
}

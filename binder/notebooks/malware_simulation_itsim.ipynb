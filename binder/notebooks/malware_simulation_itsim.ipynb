{
 "cells": [
  {
   "cell_type": "markdown",
   "metadata": {},
   "source": [
    "<img src=\"Element-AI-Symbol-RGB.jpg\" alt=\"drawing\" width=\"75\" style=\"float:right\"/>\n",
    "\n",
    "# Malware Simulation Demo\n",
    "\n",
    "\n",
    "\n",
    "This notebook shows how to run a simple ITSim simulation and collect its telemetry data from a datastore server. Then it quickly overlooks the generated data by showing the telemetry records and plotting the chronological graphs of events.\n"
   ]
  },
  {
   "cell_type": "markdown",
   "metadata": {},
   "source": [
    "## Step 1:  Launch a Datastore Server to collect simulation data\n",
    "\n",
    "This server collects ITSim telemetry and logs over a REST API and archives them into a Database (SQLite db). This server is running throughout the simulations. It could be used to collect data from simulations running simultaneously on multiple machines.    "
   ]
  },
  {
   "cell_type": "code",
   "execution_count": null,
   "metadata": {},
   "outputs": [],
   "source": [
    "import os\n",
    "\n",
    "DB_FILE = \"malware_simulation_01.sqlite\"\n",
    "HOSTNAME = \"localhost\"\n",
    "SERVER_PORT = \"5000\"\n",
    "\n",
    "if os.system(f'python ../../bin/itsim_serve_datastore.py --sqlite_file {DB_FILE} --host {HOSTNAME} --port {SERVER_PORT} &') == 0:\n",
    "    print(f'Datastore server is running:  http://{HOSTNAME}:{SERVER_PORT}')"
   ]
  },
  {
   "cell_type": "markdown",
   "metadata": {},
   "source": [
    "## Step 2: Set up the simulation world\n",
    "\n",
    "Define simulation parameters. We consider here a simple flat local network linked to the Internet. One of the endpoints on the local network will get a backdoor to run, which beacons home at intervals distributed according to a uniform distribution. The number of simulations to run, the duration of the simulation (in sim time) and the number of endpoints deployed in the local network are all parameterizable."
   ]
  },
  {
   "cell_type": "code",
   "execution_count": null,
   "metadata": {},
   "outputs": [],
   "source": [
    "import ipywidgets as widgets\n",
    "from IPython.display import display\n",
    "from ipywidgets import interact, interactive, fixed, interact_manual\n",
    "def set_simulation_parameters(sim_runs, sim_lenght, network_topology,nb_endpoints, backdoor_random_start):\n",
    "    return {'sim_runs':sim_runs,\n",
    "            'sim_len':sim_lenght,\n",
    "            'network_topology':network_topology,\n",
    "            'nb_endpoints':nb_endpoints,\n",
    "            'backdoor_interval_bounds':backdoor_random_start}\n",
    "            \n",
    "style={'description_width': 'initial'}\n",
    "sim_runs_widget = widgets.IntSlider(value=4,\n",
    "                                    min=1,\n",
    "                                    max=10,\n",
    "                                    description='Simulations:',\n",
    "                                    style=style)\n",
    "sim_lenght_widget = widgets.IntSlider(value=120,\n",
    "                                    min=5,\n",
    "                                    max=300,\n",
    "                                    description='Sim. lenght (min):',\n",
    "                                    style=style)\n",
    "network_topology_widget = widgets.Dropdown(options=['Flat + Internet'],\n",
    "                                           value='Flat + Internet',\n",
    "                                           description='Topology:',\n",
    "                                           style=style)\n",
    "nb_endpoints_widget = widgets.IntSlider(value=20,\n",
    "                                        min=2,\n",
    "                                        max=65000,\n",
    "                                        description='Endpoints:',\n",
    "                                        style=style)\n",
    "backdoor_random_start_widget = widgets.FloatRangeSlider(value=[15.0, 45.0],\n",
    "                                                   min=1.0,\n",
    "                                                   max=100.0,\n",
    "                                                   description='Beacon interval U(a,b):',\n",
    "                                                   style=style)\n",
    "sim = interactive(set_simulation_parameters, \n",
    "                sim_runs=sim_runs_widget, \n",
    "                sim_lenght=sim_lenght_widget, \n",
    "                network_topology=network_topology_widget,\n",
    "                nb_endpoints=nb_endpoints_widget,\n",
    "                backdoor_random_start = backdoor_random_start_widget)\n",
    "display(sim)"
   ]
  },
  {
   "cell_type": "markdown",
   "metadata": {},
   "source": [
    "Define a simulation runner. If found useful, this routine could be pulled back into the ITsim library."
   ]
  },
  {
   "cell_type": "code",
   "execution_count": null,
   "metadata": {},
   "outputs": [],
   "source": [
    "def run_simulations(sim_cfg, sim_fct):\n",
    "    print(f\"Running {sim_cfg.result['sim_runs']} simulations based on the following configuration:\")\n",
    "    print(f\"\\t- Simulation Lenght: \\t\\t\\t\\t\\t{sim_cfg.result['sim_len']}\")\n",
    "    print(f\"\\t- Network Topology: \\t\\t\\t\\t\\t{sim_cfg.result['network_topology']}\")\n",
    "    print(f\"\\t- Number of servers: \\t\\t\\t\\t\\t1\")\n",
    "    print(f\"\\t- Number of Endpoints: \\t\\t\\t\\t\\t{sim_cfg.result['nb_endpoints']}\")\n",
    "    print(f\"\\t- Random backdoor callback based on distribution: \\tUniform({sim_cfg.result['backdoor_interval_bounds'][0]},{sim_cfg.result['backdoor_interval_bounds'][1]})\")\n",
    "    bar = widgets.IntProgress(value=0,\n",
    "                              min=0,\n",
    "                              max=sim_cfg.result['sim_runs'],\n",
    "                              step=1,\n",
    "                              description='Progress:',\n",
    "                              bar_style='info', \n",
    "                              orientation='horizontal')\n",
    "    display(bar)\n",
    "    for _ in range(sim_cfg.result['sim_runs']):\n",
    "        sim_fct(sim_cfg.result)\n",
    "        bar.value+=1"
   ]
  },
  {
   "cell_type": "markdown",
   "metadata": {},
   "source": [
    "A few declarations, plus global parameter definitions. We have on our to-do list to pull all the most important classes and functions in a single root module."
   ]
  },
  {
   "cell_type": "code",
   "execution_count": null,
   "metadata": {},
   "outputs": [],
   "source": [
    "import random\n",
    "from greensim.random import constant, normal, uniform, bounded\n",
    "from itsim import malware\n",
    "from itsim.datastore.datastore import DatastoreClientFactory\n",
    "from itsim.software.context import Context\n",
    "from itsim.machine.endpoint import Endpoint\n",
    "from itsim.machine.socket import Timeout\n",
    "from itsim.network.location import Location\n",
    "from itsim.network.link import Link\n",
    "from itsim.network.router import Router\n",
    "from itsim.network.route import Relay\n",
    "from itsim.simulator import Simulator, now, advance\n",
    "from itsim.types import as_address, as_cidr, Protocol\n",
    "from itsim.units import B, S, MS, MbPS, MIN\n",
    "\n",
    "PORT_C2 = 443\n",
    "size_beacon = bounded(normal(128 * B, 32 * B), lower=32 * B)\n",
    "address_c2 = as_address(\"120.11.12.20\")\n",
    "local_cidr = as_cidr(\"10.11.0.0/16\")\n",
    "internet_cidr = as_cidr(\"0.0.0.0/0\")"
   ]
  },
  {
   "cell_type": "markdown",
   "metadata": {},
   "source": [
    "The backdoor process, which will run on a randomly selected endpoint. Note: the advance commands have been added to help visualizing data; they're not required to properly implement the simulation. \n"
   ]
  },
  {
   "cell_type": "code",
   "execution_count": null,
   "metadata": {},
   "outputs": [],
   "source": [
    "@malware\n",
    "def backdoor(context: Context, interval_lower: float, interval_upper: float) -> None:\n",
    "    interval_beacons = uniform(interval_lower * MIN, interval_upper * MIN)\n",
    "    while True:\n",
    "        with context.node.bind(Protocol.TCP) as socket:\n",
    "            advance(200 * MS)\n",
    "            socket.send(Location(address_c2, PORT_C2), next(size_beacon), {\"content\": \"ping\"})\n",
    "            try:\n",
    "                packet = socket.recv(10 * S)\n",
    "                advance(200 * MS)\n",
    "            except Timeout:\n",
    "                print(\"TIMEOUT -- We might have a bug, take a look.\")  # Try again next interval...\n",
    "        advance(next(interval_beacons))\n",
    "\n"
   ]
  },
  {
   "cell_type": "markdown",
   "metadata": {},
   "source": [
    "The command and control server software. This will be run on an endpoint set up outside of the local network.\n"
   ]
  },
  {
   "cell_type": "code",
   "execution_count": null,
   "metadata": {},
   "outputs": [],
   "source": [
    "@malware\n",
    "def command_and_control(context: Context) -> None:\n",
    "    with context.node.bind(Protocol.UDP, PORT_C2) as socket:\n",
    "        while True:\n",
    "            packet = socket.recv()\n",
    "            advance(200 * MS)\n",
    "            socket.send(packet.source, 8, {\"content\": \"pong\"})"
   ]
  },
  {
   "cell_type": "markdown",
   "metadata": {},
   "source": [
    "The next function instantiates the simulated *world* and runs the simulation inside it.\n"
   ]
  },
  {
   "cell_type": "code",
   "execution_count": null,
   "metadata": {},
   "outputs": [],
   "source": [
    "def run_backdoor_simulation(sim_cfg):\n",
    "    sim = Simulator()\n",
    "    DatastoreClientFactory().sim_uuid = sim.uuid\n",
    "\n",
    "    local = Link(local_cidr, latency=uniform(1 * MS, 5 * MS), bandwidth=constant(100 * MbPS))\n",
    "    internet = Link(internet_cidr, latency=constant(200 * MS), bandwidth=constant(1000 * MbPS))\n",
    "\n",
    "    router = Router()\n",
    "    router.connected_to_static(local, 1)\n",
    "    router.connected_to_static(internet, \"1.2.3.4\")\n",
    "\n",
    "    route_local_to_internet = Relay(router._interfaces[local_cidr].address, internet_cidr)\n",
    "    route_internet_to_local = Relay(router._interfaces[internet_cidr].address, local_cidr)\n",
    "\n",
    "    endpoints = [Endpoint().connected_to_static(local, n + 10, [route_local_to_internet]) for n in range(sim_cfg[\"nb_endpoints\"])]\n",
    "    endpoints[random.randint(0, sim_cfg[\"nb_endpoints\"] - 1)].run_proc_in(\n",
    "        sim,\n",
    "        0.1,\n",
    "        backdoor,\n",
    "        sim_cfg[\"backdoor_interval_bounds\"][0],\n",
    "        sim_cfg[\"backdoor_interval_bounds\"][1]\n",
    "    )\n",
    "\n",
    "    host_c2 = Endpoint().connected_to_static(internet, address_c2, [route_internet_to_local])\n",
    "    host_c2.run_proc(sim, command_and_control)\n",
    "\n",
    "    sim.run(sim_cfg[\"sim_len\"] * MIN)"
   ]
  },
  {
   "cell_type": "markdown",
   "metadata": {},
   "source": [
    "## Step 3: Run the simulation\n"
   ]
  },
  {
   "cell_type": "code",
   "execution_count": null,
   "metadata": {},
   "outputs": [],
   "source": [
    "run_simulations(sim, run_backdoor_simulation)"
   ]
  },
  {
   "cell_type": "markdown",
   "metadata": {},
   "source": [
    "We're done with the datastore server, we can close it. "
   ]
  },
  {
   "cell_type": "code",
   "execution_count": null,
   "metadata": {},
   "outputs": [],
   "source": [
    "import requests\n",
    "\n",
    "try: \n",
    "    response = requests.post(f'http://{HOSTNAME}:{SERVER_PORT}/stop')\n",
    "    print(\"Server properly shutdown\")\n",
    "except:\n",
    "    print(\"Can't reach the server to shut it down\")"
   ]
  },
  {
   "cell_type": "markdown",
   "metadata": {},
   "source": [
    "## Step 4: Retrieve Simulation Telemetry\n",
    "\n",
    "Now that the simulations ran to completion, we can access the data collected by the datastore (SQLite database).\n",
    "\n",
    "The datastore is storing telemetry events as JSON strings into a SQLite database (for the convenience of quick prototyping). This is a quick preview of what the data looks like using Pandas. "
   ]
  },
  {
   "cell_type": "code",
   "execution_count": null,
   "metadata": {},
   "outputs": [],
   "source": [
    "import sqlite3\n",
    "import pandas as pd\n",
    "import json\n",
    "from texttable import Texttable\n",
    "conn = sqlite3.connect(DB_FILE)\n",
    "df = pd.read_sql_query(\"SELECT * FROM network_event;\", conn)\n",
    "df"
   ]
  },
  {
   "cell_type": "markdown",
   "metadata": {},
   "source": [
    "From this dataframe, we can load the json data and list the fields of the telemetry events: "
   ]
  },
  {
   "cell_type": "code",
   "execution_count": null,
   "metadata": {
    "scrolled": true
   },
   "outputs": [],
   "source": [
    "simulations = df.sim_uuid.unique()\n",
    "print(f\"Telemetry events for {len(simulations)} simulations\")\n",
    "df_json = []\n",
    "\n",
    "simulations_data = {}\n",
    "for sim in simulations:\n",
    "    df2 = df.loc[df['sim_uuid'] == sim]\n",
    "    df2 = df2.set_index(\"timestamp\", drop = False)\n",
    "    df1 = df2.loc[:, 'json'].to_frame()\n",
    "    entry_list = []\n",
    "    for _, row in df1.iterrows():\n",
    "        entry_list.append(json.loads(row.json))\n",
    "    simulations_data[sim] = entry_list\n",
    "\n",
    "for sim_uuid, telemetry_list in simulations_data.items():\n",
    "    print(f\"\\nSimulation {sim_uuid}\\n\")\n",
    "    t = Texttable()\n",
    "    t_rows = []\n",
    "    t_header = ['Timestamp', 'Telemetry uuid', 'Node uuid', 'Event', 'Tags', 'Prot.', 'Pid', 'Src', 'Dst']\n",
    "    t_rows.append(t_header)   \n",
    "    for telemetry in telemetry_list:\n",
    "        t_rows.append([telemetry[\"timestamp\"],\n",
    "                       telemetry[\"uuid\"],\n",
    "                       telemetry[\"uuid_node\"],\n",
    "                       telemetry[\"network_event_type\"],\n",
    "                       telemetry[\"tags\"],\n",
    "                       telemetry[\"protocol\"],\n",
    "                       telemetry[\"pid\"],\n",
    "                       telemetry[\"src\"],\n",
    "                       telemetry[\"dst\"]])\n",
    "    t.set_cols_width([13, 18, 13,5,11,5, 4, 10, 10])\n",
    "    t.set_cols_dtype([\"t\",\"t\",\"t\",\"t\",\"t\",\"t\",\"t\",\"t\",\"t\"])\n",
    "    t.add_rows(t_rows)\n",
    "    print(t.draw())\n",
    "              "
   ]
  },
  {
   "cell_type": "markdown",
   "metadata": {},
   "source": [
    "## Step 5: Plot Telemetry Data\n",
    "Here is a \"quick and dirty approach\" to plot telemetry events chronologically: "
   ]
  },
  {
   "cell_type": "code",
   "execution_count": null,
   "metadata": {},
   "outputs": [],
   "source": [
    "import ast\n",
    "import time\n",
    "import random\n",
    "import datetime\n",
    "import dateutil.parser\n",
    "from plotly import __version__\n",
    "from plotly.offline import download_plotlyjs, init_notebook_mode, plot, iplot\n",
    "import plotly.figure_factory as ff\n",
    "print(__version__) # requires version >= 1.9.0\n",
    "\n",
    "def plot_simulation_telemetry_events(conn, sim_uuid):\n",
    "    node_uuid_idx = 0\n",
    "    node_timestamp_idx = 1\n",
    "    node_simulation_idx = 2\n",
    "    node_json_idx = 3\n",
    "    df = []\n",
    "\n",
    "    print(f\"Simulation: {sim_uuid}\")\n",
    "    with conn:\n",
    "        cursor = conn.cursor()\n",
    "        cursor.execute(f'SELECT * FROM network_event WHERE \"sim_uuid\"=\"{sim_uuid}\"')\n",
    "        all_entries = cursor.fetchall()    \n",
    "        cnt = 0\n",
    "        colors = []\n",
    "        net_events_post_proc = []\n",
    "\n",
    "        for network_event in all_entries:\n",
    "            data = ast.literal_eval(network_event[node_json_idx])      \n",
    "            uuid_node = data[\"uuid_node\"]\n",
    "            timestamp = data[\"timestamp\"]\n",
    "            datetime_start = dateutil.parser.parse(timestamp)\n",
    "            datetime_stop = datetime_start + datetime.timedelta(milliseconds=100)\n",
    "            timestamp_stop = datetime_stop.isoformat()\n",
    "            uuid_telemetry = data[\"uuid\"]\n",
    "            \n",
    "            colors = {'open': (0.59, 0.25, 0.72),\n",
    "                      'close': (0.37, 0.72, 0.25),\n",
    "                      'send': (0.25, 0.72, 0.60),\n",
    "                      'recv': (0.72, 0.25, 0.37)}\n",
    "            \n",
    "            df.append(dict(Task=uuid_node, Start=timestamp, Finish=timestamp_stop, Type=data[\"network_event_type\"], Event_Name=\"Net. Events\"))\n",
    "\n",
    "        init_notebook_mode(connected=True)\n",
    "        fig = ff.create_gantt(df, title=\"ITsim Network Events\", colors=colors, index_col='Type', showgrid_x=True, showgrid_y=True, show_colorbar=True, group_tasks=True)\n",
    "        iplot(fig)"
   ]
  },
  {
   "cell_type": "markdown",
   "metadata": {},
   "source": [
    "We're now calling this function to plot an event chart for each simulation. \n",
    "\n",
    "*WARNING*: the ratio between the simulation run time and each event's length is very high, zooming is thus required to visualize the events (Plotly controls at the top right of each chart allow to zoom in and out). \n",
    "\n",
    "\n",
    "This snapshot shows what you can expect from zooming in a data transfer region:\n",
    "[snapshot](snapshot.png)\n"
   ]
  },
  {
   "cell_type": "code",
   "execution_count": null,
   "metadata": {
    "scrolled": false
   },
   "outputs": [],
   "source": [
    "for sim_uuid in simulations:\n",
    "    plot_simulation_telemetry_events(conn, sim_uuid)"
   ]
  },
  {
   "cell_type": "markdown",
   "metadata": {},
   "source": [
    "# Addendum: Commentary on Design and Applications\n"
   ]
  },
  {
   "cell_type": "markdown",
   "metadata": {},
   "source": [
    "Refer to the method `backdoor` from above:"
   ]
  },
  {
   "cell_type": "code",
   "execution_count": null,
   "metadata": {},
   "outputs": [],
   "source": [
    "@malware\n",
    "def backdoor(context: Context, interval_lower: float, interval_upper: float) -> None:\n",
    "    interval_beacons = uniform(interval_lower * MIN, interval_upper * MIN)\n",
    "    while True:\n",
    "        with context.node.bind(Protocol.TCP) as socket:\n",
    "            advance(200 * MS)\n",
    "            socket.send(Location(address_c2, PORT_C2), next(size_beacon), {\"content\": \"ping\"})\n",
    "            try:\n",
    "                packet = socket.recv(10 * S)\n",
    "                advance(200 * MS)\n",
    "            except Timeout:\n",
    "                print(\"TIMEOUT -- We might have a bug, take a look.\")  # Try again next interval...\n",
    "        advance(next(interval_beacons))"
   ]
  },
  {
   "cell_type": "markdown",
   "metadata": {},
   "source": [
    "In ITSim software processes are represented by functions, such as `backdoor`. Important things to note are:\n",
    "\n",
    "* The `@malware` decorator, which allows the logged side-effects of this function to be labelled as malicious\n",
    "* The `context` argument, which gives the function access to the simulated machine where it is running\n",
    "* The remaining argument list (`interval_lower`, and `interval_upper`) which is arbitrary from the perspective of the simulation and makes it possible for simulated software (i.e., functions) to take arbitrary runtime inputs\n",
    "* The call to `socket.send()`, which schedules events on the underlying simulator to attempt a transmission of the given data to the given destination, and carry out the destination's reaction to the packet\n",
    "* The call to `socket.recv()`, which blocks `backdoor` until a packet receipt event is simulated. The simulator leaves the state of `backdoor` in memory and continues simulating other events until it arrives at a packet receipt on `socket`, at which point execution resumes\n",
    "* The use of `interval_beacons`, which takes the value of an `Iterator`, returning values from the uniform probability distribution specified on the first line of `backdoor`. The values are in turn used to create a pseudorandom distribution in time for the calls to `socket.send()` and, implicitly, the packets moving through the simulated network"
   ]
  },
  {
   "cell_type": "markdown",
   "metadata": {},
   "source": [
    "The parameterization described in the list above enables the developer to exert control over the simulation behavior in all of the dimensions listed, which in turn enables a simulation of arbitrary payloads sent over arbitrary time intervals. This flexibility can be leveraged for a simple internetworking example as depicted below:"
   ]
  },
  {
   "cell_type": "code",
   "execution_count": null,
   "metadata": {},
   "outputs": [],
   "source": [
    "\"[Pierre-Luc's Network Diagram]\""
   ]
  },
  {
   "cell_type": "markdown",
   "metadata": {},
   "source": [
    "The upper portion of the diagram shows the Internet, which can either be represented as a single process running on a single node using the same syntax as the `backdoor` above, or as an arbitrary number of processes running on an arbitrary number of nodes (not necessarily in equal quantities), as the circumstances warrant. These would take the same form as `backdoor` with the `@malware` decorator removed and the calls to `socket.send()` and `socket.recv()` reversed, and with any logic necessary to determine which response ought to be returned. In the case of a single-node setup this could take the form of a switch based on the destination address, while in a multi-node setup any given node could correspond to a single web server.\n",
    "\n",
    "The lower portion represents the internal network, which is the principle interest of the simulation. The selected client node in this setup would run a function with the same construction as `backdoor` (again, with the `@malware` decorator removed). As it ran, each \"open\",  \"close\" (both triggered by the context manager, `context.node.bind`), \"send\", and \"recv\" event would be logged the the datastore for further analysis. Below is an outline of a hypothetical visualization of those logs:"
   ]
  },
  {
   "cell_type": "code",
   "execution_count": null,
   "metadata": {},
   "outputs": [],
   "source": [
    "\"[Pierre-Luc's Visualization]\""
   ]
  },
  {
   "cell_type": "code",
   "execution_count": null,
   "metadata": {},
   "outputs": [],
   "source": [
    "Description of visualization"
   ]
  }
 ],
 "metadata": {
  "kernelspec": {
   "display_name": "Python 3",
   "language": "python",
   "name": "python3"
  },
  "language_info": {
   "codemirror_mode": {
    "name": "ipython",
    "version": 3
   },
   "file_extension": ".py",
   "mimetype": "text/x-python",
   "name": "python",
   "nbconvert_exporter": "python",
   "pygments_lexer": "ipython3",
   "version": "3.6.6"
  }
 },
 "nbformat": 4,
 "nbformat_minor": 2
}

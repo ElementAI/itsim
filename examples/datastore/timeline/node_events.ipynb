{
 "cells": [
  {
   "cell_type": "code",
   "execution_count": 199,
   "metadata": {},
   "outputs": [
    {
     "name": "stdout",
     "output_type": "stream",
     "text": [
      "3.4.1\n"
     ]
    }
   ],
   "source": [
    "from plotly import __version__\n",
    "from plotly.offline import download_plotlyjs, init_notebook_mode, plot, iplot\n",
    "import plotly.figure_factory as ff\n",
    "import sqlite3\n",
    "import ast\n",
    "import random\n",
    "print(__version__) # requires version >= 1.9.0"
   ]
  },
  {
   "cell_type": "code",
   "execution_count": 200,
   "metadata": {},
   "outputs": [
    {
     "data": {
      "text/html": [
       "<script type=\"text/javascript\">window.PlotlyConfig = {MathJaxConfig: 'local'};</script><script type=\"text/javascript\">if (window.MathJax) {MathJax.Hub.Config({SVG: {font: \"STIX-Web\"}});}</script><script>requirejs.config({paths: { 'plotly': ['https://cdn.plot.ly/plotly-latest.min']},});if(!window._Plotly) {require(['plotly'],function(plotly) {window._Plotly=plotly;});}</script>"
      ],
      "text/vnd.plotly.v1+html": [
       "<script type=\"text/javascript\">window.PlotlyConfig = {MathJaxConfig: 'local'};</script><script type=\"text/javascript\">if (window.MathJax) {MathJax.Hub.Config({SVG: {font: \"STIX-Web\"}});}</script><script>requirejs.config({paths: { 'plotly': ['https://cdn.plot.ly/plotly-latest.min']},});if(!window._Plotly) {require(['plotly'],function(plotly) {window._Plotly=plotly;});}</script>"
      ]
     },
     "metadata": {},
     "output_type": "display_data"
    }
   ],
   "source": [
    "init_notebook_mode(connected=True)\n"
   ]
  },
  {
   "cell_type": "code",
   "execution_count": 201,
   "metadata": {},
   "outputs": [],
   "source": [
    "# sqlite_file = \"../itsim/itsim/datastore/storage/sqlite_01.sqlite\"\n",
    "sqlite_file = \"data/sqlite_01.sqlite\"\n",
    "conn = sqlite3.connect(sqlite_file)"
   ]
  },
  {
   "cell_type": "code",
   "execution_count": 202,
   "metadata": {},
   "outputs": [
    {
     "name": "stdout",
     "output_type": "stream",
     "text": [
      "[('c7adc825-835d-4137-89ba-150d3fb19958', '2018-11-20T13:14:36.010016', '9cca45d3-df3f-45cc-9f71-c99f3b9b1735', '{\"sim_uuid\": \"9cca45d3-df3f-45cc-9f71-c99f3b9b1735\", \"timestamp\": \"2018-11-20T13:14:36.010016\", \"type\": \"network_event\", \"uuid\": \"c7adc825-835d-4137-89ba-150d3fb19958\", \"network_event_type\": \"open\", \"uuid_node\": \"e77e5e50-e88c-46e1-8483-cfe731f2a1dc\", \"protocol\": \"UDP\", \"pid\": 0, \"src\": [\"\", 68], \"dst\": [\"0.0.0.0\", 0]}'), ('6760c4a0-c9cb-4e49-89c1-524b62988cd8', '2018-11-20T13:14:36.010016', '9cca45d3-df3f-45cc-9f71-c99f3b9b1735', '{\"sim_uuid\": \"9cca45d3-df3f-45cc-9f71-c99f3b9b1735\", \"timestamp\": \"2018-11-20T13:14:36.010016\", \"type\": \"network_event\", \"uuid\": \"6760c4a0-c9cb-4e49-89c1-524b62988cd8\", \"network_event_type\": \"open\", \"uuid_node\": \"96bf3153-01bc-4115-84a5-c0faea61ff82\", \"protocol\": \"UDP\", \"pid\": 0, \"src\": [\"\", 68], \"dst\": [\"0.0.0.0\", 0]}'), ('fbce39cd-5455-45da-9b74-3fd72dd010a9', '2018-11-20T13:14:36.010016', '9cca45d3-df3f-45cc-9f71-c99f3b9b1735', '{\"sim_uuid\": \"9cca45d3-df3f-45cc-9f71-c99f3b9b1735\", \"timestamp\": \"2018-11-20T13:14:36.010016\", \"type\": \"network_event\", \"uuid\": \"fbce39cd-5455-45da-9b74-3fd72dd010a9\", \"network_event_type\": \"open\", \"uuid_node\": \"e67a2dca-8aa6-4088-af1e-64bc89a7d16e\", \"protocol\": \"UDP\", \"pid\": 0, \"src\": [\"\", 68], \"dst\": [\"0.0.0.0\", 0]}'), ('b44fafc8-04a2-4713-9612-d68ce2441826', '2018-11-20T13:14:36.010016', '9cca45d3-df3f-45cc-9f71-c99f3b9b1735', '{\"sim_uuid\": \"9cca45d3-df3f-45cc-9f71-c99f3b9b1735\", \"timestamp\": \"2018-11-20T13:14:36.010016\", \"type\": \"network_event\", \"uuid\": \"b44fafc8-04a2-4713-9612-d68ce2441826\", \"network_event_type\": \"open\", \"uuid_node\": \"cb5e2998-f470-43a9-850c-d7df98e85ba5\", \"protocol\": \"UDP\", \"pid\": 0, \"src\": [\"\", 68], \"dst\": [\"0.0.0.0\", 0]}'), ('41cfc12d-a48e-4823-833d-649b1938e469', '2018-11-20T13:14:36.010016', '9cca45d3-df3f-45cc-9f71-c99f3b9b1735', '{\"sim_uuid\": \"9cca45d3-df3f-45cc-9f71-c99f3b9b1735\", \"timestamp\": \"2018-11-20T13:14:36.010016\", \"type\": \"network_event\", \"uuid\": \"41cfc12d-a48e-4823-833d-649b1938e469\", \"network_event_type\": \"open\", \"uuid_node\": \"a2156620-4791-4bd0-8313-ca0458e8fec8\", \"protocol\": \"UDP\", \"pid\": 0, \"src\": [\"\", 68], \"dst\": [\"0.0.0.0\", 0]}'), ('e97e2d33-d93b-49e3-873e-37b67e221a22', '2018-11-20T13:14:36.010016', '9cca45d3-df3f-45cc-9f71-c99f3b9b1735', '{\"sim_uuid\": \"9cca45d3-df3f-45cc-9f71-c99f3b9b1735\", \"timestamp\": \"2018-11-20T13:14:36.010016\", \"type\": \"network_event\", \"uuid\": \"e97e2d33-d93b-49e3-873e-37b67e221a22\", \"network_event_type\": \"open\", \"uuid_node\": \"c42a4217-d6c4-44ee-8b07-374d0ea17ef7\", \"protocol\": \"UDP\", \"pid\": 0, \"src\": [\"\", 67], \"dst\": [\"0.0.0.0\", 0]}'), ('35bb0f12-5e4d-4c6a-b570-20706105aeb6', '2018-11-20T13:14:36.566143', '9cca45d3-df3f-45cc-9f71-c99f3b9b1735', '{\"sim_uuid\": \"9cca45d3-df3f-45cc-9f71-c99f3b9b1735\", \"timestamp\": \"2018-11-20T13:14:36.566143\", \"type\": \"network_event\", \"uuid\": \"35bb0f12-5e4d-4c6a-b570-20706105aeb6\", \"network_event_type\": \"close\", \"uuid_node\": \"cb5e2998-f470-43a9-850c-d7df98e85ba5\", \"protocol\": \"UDP\", \"pid\": 0, \"src\": [\"\", 68], \"dst\": [\"10.1.191.255\", 67]}'), ('359bc36e-0dad-44b3-be1e-94dff2e08287', '2018-11-20T13:14:36.579149', '9cca45d3-df3f-45cc-9f71-c99f3b9b1735', '{\"sim_uuid\": \"9cca45d3-df3f-45cc-9f71-c99f3b9b1735\", \"timestamp\": \"2018-11-20T13:14:36.579149\", \"type\": \"network_event\", \"uuid\": \"359bc36e-0dad-44b3-be1e-94dff2e08287\", \"network_event_type\": \"close\", \"uuid_node\": \"96bf3153-01bc-4115-84a5-c0faea61ff82\", \"protocol\": \"UDP\", \"pid\": 0, \"src\": [\"\", 68], \"dst\": [\"10.1.191.255\", 67]}'), ('62b87a21-a12f-40d8-b16a-3fdf9710c1f5', '2018-11-20T13:14:36.622850', '9cca45d3-df3f-45cc-9f71-c99f3b9b1735', '{\"sim_uuid\": \"9cca45d3-df3f-45cc-9f71-c99f3b9b1735\", \"timestamp\": \"2018-11-20T13:14:36.622850\", \"type\": \"network_event\", \"uuid\": \"62b87a21-a12f-40d8-b16a-3fdf9710c1f5\", \"network_event_type\": \"close\", \"uuid_node\": \"a2156620-4791-4bd0-8313-ca0458e8fec8\", \"protocol\": \"UDP\", \"pid\": 0, \"src\": [\"\", 68], \"dst\": [\"10.1.191.255\", 67]}'), ('96de8a6e-0fe5-4546-9717-a877fefe1a61', '2018-11-20T13:14:36.624603', '9cca45d3-df3f-45cc-9f71-c99f3b9b1735', '{\"sim_uuid\": \"9cca45d3-df3f-45cc-9f71-c99f3b9b1735\", \"timestamp\": \"2018-11-20T13:14:36.624603\", \"type\": \"network_event\", \"uuid\": \"96de8a6e-0fe5-4546-9717-a877fefe1a61\", \"network_event_type\": \"close\", \"uuid_node\": \"e67a2dca-8aa6-4088-af1e-64bc89a7d16e\", \"protocol\": \"UDP\", \"pid\": 0, \"src\": [\"\", 68], \"dst\": [\"10.1.191.255\", 67]}'), ('20572e93-6c86-41de-a65b-8b52332d06e6', '2018-11-20T13:14:36.646337', '9cca45d3-df3f-45cc-9f71-c99f3b9b1735', '{\"sim_uuid\": \"9cca45d3-df3f-45cc-9f71-c99f3b9b1735\", \"timestamp\": \"2018-11-20T13:14:36.646337\", \"type\": \"network_event\", \"uuid\": \"20572e93-6c86-41de-a65b-8b52332d06e6\", \"network_event_type\": \"close\", \"uuid_node\": \"e77e5e50-e88c-46e1-8483-cfe731f2a1dc\", \"protocol\": \"UDP\", \"pid\": 0, \"src\": [\"\", 68], \"dst\": [\"10.1.191.255\", 67]}')]\n"
     ]
    }
   ],
   "source": [
    "node_uuid_idx = 0\n",
    "node_timestamp_idx = 1\n",
    "node_simulation_idx = 2\n",
    "node_json_idx = 3\n",
    "\n",
    "df = []\n",
    "\n",
    "with conn:\n",
    "\n",
    "    cursor = conn.cursor()\n",
    "    cursor.execute('SELECT * FROM network_event')\n",
    "    all_entries = cursor.fetchall()\n",
    "    \n",
    "    # DEBUG\n",
    "    print(all_entries)\n",
    "    \n",
    "    cnt = 0\n",
    "    colors = []\n",
    "\n",
    "    net_events_post_proc = []\n",
    "\n",
    "    for network_event in all_entries:\n",
    "        data = ast.literal_eval(network_event[node_json_idx])      \n",
    "        uuid_node = data[\"uuid_node\"]\n",
    "        event_info = {\"uuid_node\": uuid_node,\"start\":\"\",\"stop\":\"\"}\n",
    "        net_events_post_proc.append(event_info)\n",
    "\n",
    "    for network_event in all_entries:\n",
    "        data = ast.literal_eval(network_event[node_json_idx])      \n",
    "        uuid_node = data[\"uuid_node\"]   \n",
    "        event_dict = next(item for item in net_events_post_proc if item[\"uuid_node\"] == uuid_node)\n",
    "        if event_dict[\"start\"]==\"\":\n",
    "            event_dict[\"start\"]=network_event[node_timestamp_idx]\n",
    "        else:\n",
    "            event_dict[\"stop\"]=network_event[node_timestamp_idx]\n",
    "    \n",
    "    #print(net_events_post_proc)\n",
    "           "
   ]
  },
  {
   "cell_type": "code",
   "execution_count": 203,
   "metadata": {},
   "outputs": [],
   "source": [
    "for network_event_dict in net_events_post_proc:\n",
    "    if network_event_dict[\"start\"] is not \"\" and network_event_dict[\"stop\"] is not \"\":\n",
    "        colors.append((random.uniform(0, 1),random.uniform(0, 1),random.uniform(0, 1)))\n",
    "        df.append(dict(Task=network_event_dict[\"uuid_node\"], Start=network_event_dict[\"start\"], Finish=network_event_dict[\"stop\"], Event_Name=\"connection\"))\n",
    "\n",
    "        "
   ]
  },
  {
   "cell_type": "code",
   "execution_count": 205,
   "metadata": {
    "scrolled": false
   },
   "outputs": [
    {
     "data": {
      "application/vnd.plotly.v1+json": {
       "data": [
        {
         "marker": {
          "color": "white"
         },
         "name": "",
         "type": "scatter",
         "uid": "4e8da101-34af-4361-a661-a70225bba38c",
         "x": [
          "2018-11-20T13:14:36.010016",
          "2018-11-20T13:14:36.646337"
         ],
         "y": [
          4,
          4
         ]
        },
        {
         "marker": {
          "color": "white"
         },
         "name": "",
         "type": "scatter",
         "uid": "932d0b01-24a9-4390-8f00-4c0933ad2fd9",
         "x": [
          "2018-11-20T13:14:36.010016",
          "2018-11-20T13:14:36.579149"
         ],
         "y": [
          3,
          3
         ]
        },
        {
         "marker": {
          "color": "white"
         },
         "name": "",
         "type": "scatter",
         "uid": "a8a867d7-42a7-4f60-85e2-b9baf80ce9a7",
         "x": [
          "2018-11-20T13:14:36.010016",
          "2018-11-20T13:14:36.624603"
         ],
         "y": [
          2,
          2
         ]
        },
        {
         "marker": {
          "color": "white"
         },
         "name": "",
         "type": "scatter",
         "uid": "9004ea6f-205d-4023-986b-2ff52b2c7d74",
         "x": [
          "2018-11-20T13:14:36.010016",
          "2018-11-20T13:14:36.566143"
         ],
         "y": [
          1,
          1
         ]
        },
        {
         "marker": {
          "color": "white"
         },
         "name": "",
         "type": "scatter",
         "uid": "c093db10-b8e1-4362-b4a5-59542888cdf7",
         "x": [
          "2018-11-20T13:14:36.010016",
          "2018-11-20T13:14:36.622850"
         ],
         "y": [
          0,
          0
         ]
        },
        {
         "hoverinfo": "none",
         "marker": {
          "color": "rgb(178, 192, 181)",
          "size": 1
         },
         "name": "connection",
         "showlegend": true,
         "type": "scatter",
         "uid": "cf8fb35e-66fe-42ea-a5bf-c70914967a7d",
         "x": [
          "2018-11-20T13:14:36.010016",
          "2018-11-20T13:14:36.010016"
         ],
         "y": [
          0,
          0
         ]
        }
       ],
       "layout": {
        "height": 600,
        "hovermode": "closest",
        "shapes": [
         {
          "fillcolor": "rgb(178, 192, 181)",
          "line": {
           "width": 0
          },
          "opacity": 1,
          "type": "rect",
          "x0": "2018-11-20T13:14:36.010016",
          "x1": "2018-11-20T13:14:36.646337",
          "xref": "x",
          "y0": 3.8,
          "y1": 4.2,
          "yref": "y"
         },
         {
          "fillcolor": "rgb(178, 192, 181)",
          "line": {
           "width": 0
          },
          "opacity": 1,
          "type": "rect",
          "x0": "2018-11-20T13:14:36.010016",
          "x1": "2018-11-20T13:14:36.579149",
          "xref": "x",
          "y0": 2.8,
          "y1": 3.2,
          "yref": "y"
         },
         {
          "fillcolor": "rgb(178, 192, 181)",
          "line": {
           "width": 0
          },
          "opacity": 1,
          "type": "rect",
          "x0": "2018-11-20T13:14:36.010016",
          "x1": "2018-11-20T13:14:36.624603",
          "xref": "x",
          "y0": 1.8,
          "y1": 2.2,
          "yref": "y"
         },
         {
          "fillcolor": "rgb(178, 192, 181)",
          "line": {
           "width": 0
          },
          "opacity": 1,
          "type": "rect",
          "x0": "2018-11-20T13:14:36.010016",
          "x1": "2018-11-20T13:14:36.566143",
          "xref": "x",
          "y0": 0.8,
          "y1": 1.2,
          "yref": "y"
         },
         {
          "fillcolor": "rgb(178, 192, 181)",
          "line": {
           "width": 0
          },
          "opacity": 1,
          "type": "rect",
          "x0": "2018-11-20T13:14:36.010016",
          "x1": "2018-11-20T13:14:36.622850",
          "xref": "x",
          "y0": -0.2,
          "y1": 0.2,
          "yref": "y"
         }
        ],
        "showlegend": true,
        "title": "ITsim Network Events",
        "width": 900,
        "xaxis": {
         "rangeselector": {
          "buttons": [
           {
            "count": 7,
            "label": "1w",
            "step": "day",
            "stepmode": "backward"
           },
           {
            "count": 1,
            "label": "1m",
            "step": "month",
            "stepmode": "backward"
           },
           {
            "count": 6,
            "label": "6m",
            "step": "month",
            "stepmode": "backward"
           },
           {
            "count": 1,
            "label": "YTD",
            "step": "year",
            "stepmode": "todate"
           },
           {
            "count": 1,
            "label": "1y",
            "step": "year",
            "stepmode": "backward"
           },
           {
            "step": "all"
           }
          ]
         },
         "showgrid": true,
         "type": "date",
         "zeroline": false
        },
        "yaxis": {
         "autorange": false,
         "range": [
          -1,
          6
         ],
         "showgrid": true,
         "ticktext": [
          "a2156620-4791-4bd0-8313-ca0458e8fec8",
          "cb5e2998-f470-43a9-850c-d7df98e85ba5",
          "e67a2dca-8aa6-4088-af1e-64bc89a7d16e",
          "96bf3153-01bc-4115-84a5-c0faea61ff82",
          "e77e5e50-e88c-46e1-8483-cfe731f2a1dc"
         ],
         "tickvals": [
          0,
          1,
          2,
          3,
          4
         ],
         "zeroline": false
        }
       }
      },
      "text/html": [
       "<div id=\"74167433-99c1-4fc8-bc39-6c5182c7a165\" style=\"height: 600px; width: 900px;\" class=\"plotly-graph-div\"></div><script type=\"text/javascript\">require([\"plotly\"], function(Plotly) { window.PLOTLYENV=window.PLOTLYENV || {};window.PLOTLYENV.BASE_URL=\"https://plot.ly\";Plotly.newPlot(\"74167433-99c1-4fc8-bc39-6c5182c7a165\", [{\"marker\": {\"color\": \"white\"}, \"name\": \"\", \"x\": [\"2018-11-20T13:14:36.010016\", \"2018-11-20T13:14:36.646337\"], \"y\": [4, 4], \"type\": \"scatter\", \"uid\": \"2d214f07-4320-4784-a930-2a61f89f0d9b\"}, {\"marker\": {\"color\": \"white\"}, \"name\": \"\", \"x\": [\"2018-11-20T13:14:36.010016\", \"2018-11-20T13:14:36.579149\"], \"y\": [3, 3], \"type\": \"scatter\", \"uid\": \"1d608473-f89f-4a45-beaf-6fcc868b01fc\"}, {\"marker\": {\"color\": \"white\"}, \"name\": \"\", \"x\": [\"2018-11-20T13:14:36.010016\", \"2018-11-20T13:14:36.624603\"], \"y\": [2, 2], \"type\": \"scatter\", \"uid\": \"beed5db2-a483-4b40-9df7-afe9f125f036\"}, {\"marker\": {\"color\": \"white\"}, \"name\": \"\", \"x\": [\"2018-11-20T13:14:36.010016\", \"2018-11-20T13:14:36.566143\"], \"y\": [1, 1], \"type\": \"scatter\", \"uid\": \"b073a3a4-adc7-47ef-993b-ec5b42a7fba5\"}, {\"marker\": {\"color\": \"white\"}, \"name\": \"\", \"x\": [\"2018-11-20T13:14:36.010016\", \"2018-11-20T13:14:36.622850\"], \"y\": [0, 0], \"type\": \"scatter\", \"uid\": \"e6da78c8-7848-4453-9edc-6c29aea13a3f\"}, {\"hoverinfo\": \"none\", \"marker\": {\"color\": \"rgb(178, 192, 181)\", \"size\": 1}, \"name\": \"connection\", \"showlegend\": true, \"x\": [\"2018-11-20T13:14:36.010016\", \"2018-11-20T13:14:36.010016\"], \"y\": [0, 0], \"type\": \"scatter\", \"uid\": \"35d0e2b6-b2c6-414a-beb4-f2306f530486\"}], {\"height\": 600, \"hovermode\": \"closest\", \"shapes\": [{\"fillcolor\": \"rgb(178, 192, 181)\", \"line\": {\"width\": 0}, \"opacity\": 1, \"type\": \"rect\", \"x0\": \"2018-11-20T13:14:36.010016\", \"x1\": \"2018-11-20T13:14:36.646337\", \"xref\": \"x\", \"y0\": 3.8, \"y1\": 4.2, \"yref\": \"y\"}, {\"fillcolor\": \"rgb(178, 192, 181)\", \"line\": {\"width\": 0}, \"opacity\": 1, \"type\": \"rect\", \"x0\": \"2018-11-20T13:14:36.010016\", \"x1\": \"2018-11-20T13:14:36.579149\", \"xref\": \"x\", \"y0\": 2.8, \"y1\": 3.2, \"yref\": \"y\"}, {\"fillcolor\": \"rgb(178, 192, 181)\", \"line\": {\"width\": 0}, \"opacity\": 1, \"type\": \"rect\", \"x0\": \"2018-11-20T13:14:36.010016\", \"x1\": \"2018-11-20T13:14:36.624603\", \"xref\": \"x\", \"y0\": 1.8, \"y1\": 2.2, \"yref\": \"y\"}, {\"fillcolor\": \"rgb(178, 192, 181)\", \"line\": {\"width\": 0}, \"opacity\": 1, \"type\": \"rect\", \"x0\": \"2018-11-20T13:14:36.010016\", \"x1\": \"2018-11-20T13:14:36.566143\", \"xref\": \"x\", \"y0\": 0.8, \"y1\": 1.2, \"yref\": \"y\"}, {\"fillcolor\": \"rgb(178, 192, 181)\", \"line\": {\"width\": 0}, \"opacity\": 1, \"type\": \"rect\", \"x0\": \"2018-11-20T13:14:36.010016\", \"x1\": \"2018-11-20T13:14:36.622850\", \"xref\": \"x\", \"y0\": -0.2, \"y1\": 0.2, \"yref\": \"y\"}], \"showlegend\": true, \"title\": \"ITsim Network Events\", \"width\": 900, \"xaxis\": {\"rangeselector\": {\"buttons\": [{\"count\": 7, \"label\": \"1w\", \"step\": \"day\", \"stepmode\": \"backward\"}, {\"count\": 1, \"label\": \"1m\", \"step\": \"month\", \"stepmode\": \"backward\"}, {\"count\": 6, \"label\": \"6m\", \"step\": \"month\", \"stepmode\": \"backward\"}, {\"count\": 1, \"label\": \"YTD\", \"step\": \"year\", \"stepmode\": \"todate\"}, {\"count\": 1, \"label\": \"1y\", \"step\": \"year\", \"stepmode\": \"backward\"}, {\"step\": \"all\"}]}, \"showgrid\": true, \"type\": \"date\", \"zeroline\": false}, \"yaxis\": {\"autorange\": false, \"range\": [-1, 6], \"showgrid\": true, \"ticktext\": [\"a2156620-4791-4bd0-8313-ca0458e8fec8\", \"cb5e2998-f470-43a9-850c-d7df98e85ba5\", \"e67a2dca-8aa6-4088-af1e-64bc89a7d16e\", \"96bf3153-01bc-4115-84a5-c0faea61ff82\", \"e77e5e50-e88c-46e1-8483-cfe731f2a1dc\"], \"tickvals\": [0, 1, 2, 3, 4], \"zeroline\": false}}, {\"showLink\": true, \"linkText\": \"Export to plot.ly\"})});</script>"
      ],
      "text/vnd.plotly.v1+html": [
       "<div id=\"74167433-99c1-4fc8-bc39-6c5182c7a165\" style=\"height: 600px; width: 900px;\" class=\"plotly-graph-div\"></div><script type=\"text/javascript\">require([\"plotly\"], function(Plotly) { window.PLOTLYENV=window.PLOTLYENV || {};window.PLOTLYENV.BASE_URL=\"https://plot.ly\";Plotly.newPlot(\"74167433-99c1-4fc8-bc39-6c5182c7a165\", [{\"marker\": {\"color\": \"white\"}, \"name\": \"\", \"x\": [\"2018-11-20T13:14:36.010016\", \"2018-11-20T13:14:36.646337\"], \"y\": [4, 4], \"type\": \"scatter\", \"uid\": \"2d214f07-4320-4784-a930-2a61f89f0d9b\"}, {\"marker\": {\"color\": \"white\"}, \"name\": \"\", \"x\": [\"2018-11-20T13:14:36.010016\", \"2018-11-20T13:14:36.579149\"], \"y\": [3, 3], \"type\": \"scatter\", \"uid\": \"1d608473-f89f-4a45-beaf-6fcc868b01fc\"}, {\"marker\": {\"color\": \"white\"}, \"name\": \"\", \"x\": [\"2018-11-20T13:14:36.010016\", \"2018-11-20T13:14:36.624603\"], \"y\": [2, 2], \"type\": \"scatter\", \"uid\": \"beed5db2-a483-4b40-9df7-afe9f125f036\"}, {\"marker\": {\"color\": \"white\"}, \"name\": \"\", \"x\": [\"2018-11-20T13:14:36.010016\", \"2018-11-20T13:14:36.566143\"], \"y\": [1, 1], \"type\": \"scatter\", \"uid\": \"b073a3a4-adc7-47ef-993b-ec5b42a7fba5\"}, {\"marker\": {\"color\": \"white\"}, \"name\": \"\", \"x\": [\"2018-11-20T13:14:36.010016\", \"2018-11-20T13:14:36.622850\"], \"y\": [0, 0], \"type\": \"scatter\", \"uid\": \"e6da78c8-7848-4453-9edc-6c29aea13a3f\"}, {\"hoverinfo\": \"none\", \"marker\": {\"color\": \"rgb(178, 192, 181)\", \"size\": 1}, \"name\": \"connection\", \"showlegend\": true, \"x\": [\"2018-11-20T13:14:36.010016\", \"2018-11-20T13:14:36.010016\"], \"y\": [0, 0], \"type\": \"scatter\", \"uid\": \"35d0e2b6-b2c6-414a-beb4-f2306f530486\"}], {\"height\": 600, \"hovermode\": \"closest\", \"shapes\": [{\"fillcolor\": \"rgb(178, 192, 181)\", \"line\": {\"width\": 0}, \"opacity\": 1, \"type\": \"rect\", \"x0\": \"2018-11-20T13:14:36.010016\", \"x1\": \"2018-11-20T13:14:36.646337\", \"xref\": \"x\", \"y0\": 3.8, \"y1\": 4.2, \"yref\": \"y\"}, {\"fillcolor\": \"rgb(178, 192, 181)\", \"line\": {\"width\": 0}, \"opacity\": 1, \"type\": \"rect\", \"x0\": \"2018-11-20T13:14:36.010016\", \"x1\": \"2018-11-20T13:14:36.579149\", \"xref\": \"x\", \"y0\": 2.8, \"y1\": 3.2, \"yref\": \"y\"}, {\"fillcolor\": \"rgb(178, 192, 181)\", \"line\": {\"width\": 0}, \"opacity\": 1, \"type\": \"rect\", \"x0\": \"2018-11-20T13:14:36.010016\", \"x1\": \"2018-11-20T13:14:36.624603\", \"xref\": \"x\", \"y0\": 1.8, \"y1\": 2.2, \"yref\": \"y\"}, {\"fillcolor\": \"rgb(178, 192, 181)\", \"line\": {\"width\": 0}, \"opacity\": 1, \"type\": \"rect\", \"x0\": \"2018-11-20T13:14:36.010016\", \"x1\": \"2018-11-20T13:14:36.566143\", \"xref\": \"x\", \"y0\": 0.8, \"y1\": 1.2, \"yref\": \"y\"}, {\"fillcolor\": \"rgb(178, 192, 181)\", \"line\": {\"width\": 0}, \"opacity\": 1, \"type\": \"rect\", \"x0\": \"2018-11-20T13:14:36.010016\", \"x1\": \"2018-11-20T13:14:36.622850\", \"xref\": \"x\", \"y0\": -0.2, \"y1\": 0.2, \"yref\": \"y\"}], \"showlegend\": true, \"title\": \"ITsim Network Events\", \"width\": 900, \"xaxis\": {\"rangeselector\": {\"buttons\": [{\"count\": 7, \"label\": \"1w\", \"step\": \"day\", \"stepmode\": \"backward\"}, {\"count\": 1, \"label\": \"1m\", \"step\": \"month\", \"stepmode\": \"backward\"}, {\"count\": 6, \"label\": \"6m\", \"step\": \"month\", \"stepmode\": \"backward\"}, {\"count\": 1, \"label\": \"YTD\", \"step\": \"year\", \"stepmode\": \"todate\"}, {\"count\": 1, \"label\": \"1y\", \"step\": \"year\", \"stepmode\": \"backward\"}, {\"step\": \"all\"}]}, \"showgrid\": true, \"type\": \"date\", \"zeroline\": false}, \"yaxis\": {\"autorange\": false, \"range\": [-1, 6], \"showgrid\": true, \"ticktext\": [\"a2156620-4791-4bd0-8313-ca0458e8fec8\", \"cb5e2998-f470-43a9-850c-d7df98e85ba5\", \"e67a2dca-8aa6-4088-af1e-64bc89a7d16e\", \"96bf3153-01bc-4115-84a5-c0faea61ff82\", \"e77e5e50-e88c-46e1-8483-cfe731f2a1dc\"], \"tickvals\": [0, 1, 2, 3, 4], \"zeroline\": false}}, {\"showLink\": true, \"linkText\": \"Export to plot.ly\"})});</script>"
      ]
     },
     "metadata": {},
     "output_type": "display_data"
    }
   ],
   "source": [
    "fig = ff.create_gantt(df, title=\"ITsim Network Events\", colors=colors, index_col='Event_Name', showgrid_x=True, showgrid_y=True, show_colorbar=True, group_tasks=True)\n",
    "\n",
    "iplot(fig)"
   ]
  },
  {
   "cell_type": "code",
   "execution_count": null,
   "metadata": {},
   "outputs": [],
   "source": []
  },
  {
   "cell_type": "code",
   "execution_count": null,
   "metadata": {},
   "outputs": [],
   "source": []
  }
 ],
 "metadata": {
  "kernelspec": {
   "display_name": "itsimdash",
   "language": "python",
   "name": "itsimdash"
  },
  "language_info": {
   "codemirror_mode": {
    "name": "ipython",
    "version": 3
   },
   "file_extension": ".py",
   "mimetype": "text/x-python",
   "name": "python",
   "nbconvert_exporter": "python",
   "pygments_lexer": "ipython3",
   "version": "3.7.0"
  }
 },
 "nbformat": 4,
 "nbformat_minor": 2
}

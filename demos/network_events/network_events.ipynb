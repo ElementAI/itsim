{
 "cells": [
  {
   "cell_type": "code",
   "execution_count": 1,
   "metadata": {},
   "outputs": [
    {
     "name": "stdout",
     "output_type": "stream",
     "text": [
      "3.4.1\n"
     ]
    }
   ],
   "source": [
    "from plotly import __version__\n",
    "from plotly.offline import download_plotlyjs, init_notebook_mode, plot, iplot\n",
    "import plotly.figure_factory as ff\n",
    "import sqlite3\n",
    "import ast\n",
    "import random\n",
    "print(__version__) # requires version >= 1.9.0"
   ]
  },
  {
   "cell_type": "code",
   "execution_count": 2,
   "metadata": {},
   "outputs": [
    {
     "data": {
      "text/html": [
       "<script type=\"text/javascript\">window.PlotlyConfig = {MathJaxConfig: 'local'};</script><script type=\"text/javascript\">if (window.MathJax) {MathJax.Hub.Config({SVG: {font: \"STIX-Web\"}});}</script><script>requirejs.config({paths: { 'plotly': ['https://cdn.plot.ly/plotly-latest.min']},});if(!window._Plotly) {require(['plotly'],function(plotly) {window._Plotly=plotly;});}</script>"
      ],
      "text/vnd.plotly.v1+html": [
       "<script type=\"text/javascript\">window.PlotlyConfig = {MathJaxConfig: 'local'};</script><script type=\"text/javascript\">if (window.MathJax) {MathJax.Hub.Config({SVG: {font: \"STIX-Web\"}});}</script><script>requirejs.config({paths: { 'plotly': ['https://cdn.plot.ly/plotly-latest.min']},});if(!window._Plotly) {require(['plotly'],function(plotly) {window._Plotly=plotly;});}</script>"
      ]
     },
     "metadata": {},
     "output_type": "display_data"
    }
   ],
   "source": [
    "init_notebook_mode(connected=True)\n"
   ]
  },
  {
   "cell_type": "code",
   "execution_count": 3,
   "metadata": {},
   "outputs": [],
   "source": [
    "sqlite_file = \"network_events_demo.sqlite\"\n",
    "conn = sqlite3.connect(sqlite_file)"
   ]
  },
  {
   "cell_type": "code",
   "execution_count": 4,
   "metadata": {},
   "outputs": [],
   "source": [
    "node_uuid_idx = 0\n",
    "node_timestamp_idx = 1\n",
    "node_simulation_idx = 2\n",
    "node_json_idx = 3\n",
    "\n",
    "df = []\n",
    "\n",
    "with conn:\n",
    "\n",
    "    cursor = conn.cursor()\n",
    "    cursor.execute('SELECT * FROM network_event')\n",
    "    all_entries = cursor.fetchall()\n",
    "    \n",
    "    # DEBUG\n",
    "    # print(all_entries)\n",
    "    \n",
    "    cnt = 0\n",
    "    colors = []\n",
    "\n",
    "    net_events_post_proc = []\n",
    "\n",
    "    for network_event in all_entries:\n",
    "        data = ast.literal_eval(network_event[node_json_idx])      \n",
    "        uuid_node = data[\"uuid_node\"]\n",
    "        event_info = {\"uuid_node\": uuid_node,\"start\":\"\",\"stop\":\"\"}\n",
    "        net_events_post_proc.append(event_info)\n",
    "\n",
    "    for network_event in all_entries:\n",
    "        data = ast.literal_eval(network_event[node_json_idx])      \n",
    "        uuid_node = data[\"uuid_node\"]   \n",
    "        event_dict = next(item for item in net_events_post_proc if item[\"uuid_node\"] == uuid_node)\n",
    "        if event_dict[\"start\"]==\"\":\n",
    "            event_dict[\"start\"]=network_event[node_timestamp_idx]\n",
    "        else:\n",
    "            event_dict[\"stop\"]=network_event[node_timestamp_idx]\n",
    "    \n",
    "    #print(net_events_post_proc)\n",
    "           "
   ]
  },
  {
   "cell_type": "code",
   "execution_count": 5,
   "metadata": {},
   "outputs": [],
   "source": [
    "for network_event_dict in net_events_post_proc:\n",
    "    if network_event_dict[\"start\"] is not \"\" and network_event_dict[\"stop\"] is not \"\":\n",
    "        colors.append((random.uniform(0, 1),random.uniform(0, 1),random.uniform(0, 1)))\n",
    "        df.append(dict(Task=network_event_dict[\"uuid_node\"], Start=network_event_dict[\"start\"], Finish=network_event_dict[\"stop\"], Event_Name=\"connection\"))\n",
    "\n",
    "        "
   ]
  },
  {
   "cell_type": "code",
   "execution_count": 6,
   "metadata": {
    "scrolled": false
   },
   "outputs": [
    {
     "data": {
      "application/vnd.plotly.v1+json": {
       "data": [
        {
         "marker": {
          "color": "white"
         },
         "name": "",
         "type": "scatter",
         "uid": "45445ea7-b9dd-43f1-ad00-7965a32ebd5c",
         "x": [
          "2018-11-27T14:25:05.267797",
          "2018-11-27T14:25:13.096352"
         ],
         "y": [
          3,
          3
         ]
        },
        {
         "marker": {
          "color": "white"
         },
         "name": "",
         "type": "scatter",
         "uid": "28453b5e-d781-48a5-9edc-1645f0de13e4",
         "x": [
          "2018-11-27T14:25:05.418251",
          "2018-11-27T14:25:14.023431"
         ],
         "y": [
          2,
          2
         ]
        },
        {
         "marker": {
          "color": "white"
         },
         "name": "",
         "type": "scatter",
         "uid": "41126e06-0991-47a4-b7d2-6081acbc114d",
         "x": [
          "2018-11-27T14:25:53.583153",
          "2018-11-27T14:25:58.342391"
         ],
         "y": [
          1,
          1
         ]
        },
        {
         "marker": {
          "color": "white"
         },
         "name": "",
         "type": "scatter",
         "uid": "8047d1fd-2756-4608-b03f-5e067723ae80",
         "x": [
          "2018-11-27T14:25:54.161167",
          "2018-11-27T14:25:59.913361"
         ],
         "y": [
          0,
          0
         ]
        },
        {
         "hoverinfo": "none",
         "marker": {
          "color": "rgb(33, 90, 12)",
          "size": 1
         },
         "name": "connection",
         "showlegend": true,
         "type": "scatter",
         "uid": "951f29ce-2313-4077-bf8d-1d78df83f2c6",
         "x": [
          "2018-11-27T14:25:54.161167",
          "2018-11-27T14:25:54.161167"
         ],
         "y": [
          0,
          0
         ]
        }
       ],
       "layout": {
        "height": 600,
        "hovermode": "closest",
        "shapes": [
         {
          "fillcolor": "rgb(33, 90, 12)",
          "line": {
           "width": 0
          },
          "opacity": 1,
          "type": "rect",
          "x0": "2018-11-27T14:25:05.267797",
          "x1": "2018-11-27T14:25:13.096352",
          "xref": "x",
          "y0": 2.8,
          "y1": 3.2,
          "yref": "y"
         },
         {
          "fillcolor": "rgb(33, 90, 12)",
          "line": {
           "width": 0
          },
          "opacity": 1,
          "type": "rect",
          "x0": "2018-11-27T14:25:05.418251",
          "x1": "2018-11-27T14:25:14.023431",
          "xref": "x",
          "y0": 1.8,
          "y1": 2.2,
          "yref": "y"
         },
         {
          "fillcolor": "rgb(33, 90, 12)",
          "line": {
           "width": 0
          },
          "opacity": 1,
          "type": "rect",
          "x0": "2018-11-27T14:25:53.583153",
          "x1": "2018-11-27T14:25:58.342391",
          "xref": "x",
          "y0": 0.8,
          "y1": 1.2,
          "yref": "y"
         },
         {
          "fillcolor": "rgb(33, 90, 12)",
          "line": {
           "width": 0
          },
          "opacity": 1,
          "type": "rect",
          "x0": "2018-11-27T14:25:54.161167",
          "x1": "2018-11-27T14:25:59.913361",
          "xref": "x",
          "y0": -0.2,
          "y1": 0.2,
          "yref": "y"
         }
        ],
        "showlegend": true,
        "title": "ITsim Network Events",
        "width": 900,
        "xaxis": {
         "rangeselector": {
          "buttons": [
           {
            "count": 7,
            "label": "1w",
            "step": "day",
            "stepmode": "backward"
           },
           {
            "count": 1,
            "label": "1m",
            "step": "month",
            "stepmode": "backward"
           },
           {
            "count": 6,
            "label": "6m",
            "step": "month",
            "stepmode": "backward"
           },
           {
            "count": 1,
            "label": "YTD",
            "step": "year",
            "stepmode": "todate"
           },
           {
            "count": 1,
            "label": "1y",
            "step": "year",
            "stepmode": "backward"
           },
           {
            "step": "all"
           }
          ]
         },
         "showgrid": true,
         "type": "date",
         "zeroline": false
        },
        "yaxis": {
         "autorange": false,
         "range": [
          -1,
          5
         ],
         "showgrid": true,
         "ticktext": [
          "9412ec5c-810f-494e-b365-eb8b5af0ee78",
          "3130f51e-b7c6-403f-85f3-70f8967ddcda",
          "bb75d176-b5db-4599-9a28-519a7f3972df",
          "2d24b479-640f-4372-9923-d2de60a3b28d"
         ],
         "tickvals": [
          0,
          1,
          2,
          3
         ],
         "zeroline": false
        }
       }
      },
      "text/html": [
       "<div id=\"5454def4-b48a-444e-a832-569f3a253281\" style=\"height: 600px; width: 900px;\" class=\"plotly-graph-div\"></div><script type=\"text/javascript\">require([\"plotly\"], function(Plotly) { window.PLOTLYENV=window.PLOTLYENV || {};window.PLOTLYENV.BASE_URL=\"https://plot.ly\";Plotly.newPlot(\"5454def4-b48a-444e-a832-569f3a253281\", [{\"marker\": {\"color\": \"white\"}, \"name\": \"\", \"x\": [\"2018-11-27T14:25:05.267797\", \"2018-11-27T14:25:13.096352\"], \"y\": [3, 3], \"type\": \"scatter\", \"uid\": \"2b425403-c7b8-43e0-aad7-c012942c3cf5\"}, {\"marker\": {\"color\": \"white\"}, \"name\": \"\", \"x\": [\"2018-11-27T14:25:05.418251\", \"2018-11-27T14:25:14.023431\"], \"y\": [2, 2], \"type\": \"scatter\", \"uid\": \"c4ca34ba-edf2-4b86-afc8-012d8e1d96f6\"}, {\"marker\": {\"color\": \"white\"}, \"name\": \"\", \"x\": [\"2018-11-27T14:25:53.583153\", \"2018-11-27T14:25:58.342391\"], \"y\": [1, 1], \"type\": \"scatter\", \"uid\": \"5b3de6b8-1333-460d-8f5e-985d6686b2d3\"}, {\"marker\": {\"color\": \"white\"}, \"name\": \"\", \"x\": [\"2018-11-27T14:25:54.161167\", \"2018-11-27T14:25:59.913361\"], \"y\": [0, 0], \"type\": \"scatter\", \"uid\": \"6df5f5c8-5cd0-4cf5-8230-5a9c9c8cda22\"}, {\"hoverinfo\": \"none\", \"marker\": {\"color\": \"rgb(33, 90, 12)\", \"size\": 1}, \"name\": \"connection\", \"showlegend\": true, \"x\": [\"2018-11-27T14:25:54.161167\", \"2018-11-27T14:25:54.161167\"], \"y\": [0, 0], \"type\": \"scatter\", \"uid\": \"3c82fa6c-a4b1-4715-9b9d-f65acc710219\"}], {\"height\": 600, \"hovermode\": \"closest\", \"shapes\": [{\"fillcolor\": \"rgb(33, 90, 12)\", \"line\": {\"width\": 0}, \"opacity\": 1, \"type\": \"rect\", \"x0\": \"2018-11-27T14:25:05.267797\", \"x1\": \"2018-11-27T14:25:13.096352\", \"xref\": \"x\", \"y0\": 2.8, \"y1\": 3.2, \"yref\": \"y\"}, {\"fillcolor\": \"rgb(33, 90, 12)\", \"line\": {\"width\": 0}, \"opacity\": 1, \"type\": \"rect\", \"x0\": \"2018-11-27T14:25:05.418251\", \"x1\": \"2018-11-27T14:25:14.023431\", \"xref\": \"x\", \"y0\": 1.8, \"y1\": 2.2, \"yref\": \"y\"}, {\"fillcolor\": \"rgb(33, 90, 12)\", \"line\": {\"width\": 0}, \"opacity\": 1, \"type\": \"rect\", \"x0\": \"2018-11-27T14:25:53.583153\", \"x1\": \"2018-11-27T14:25:58.342391\", \"xref\": \"x\", \"y0\": 0.8, \"y1\": 1.2, \"yref\": \"y\"}, {\"fillcolor\": \"rgb(33, 90, 12)\", \"line\": {\"width\": 0}, \"opacity\": 1, \"type\": \"rect\", \"x0\": \"2018-11-27T14:25:54.161167\", \"x1\": \"2018-11-27T14:25:59.913361\", \"xref\": \"x\", \"y0\": -0.2, \"y1\": 0.2, \"yref\": \"y\"}], \"showlegend\": true, \"title\": \"ITsim Network Events\", \"width\": 900, \"xaxis\": {\"rangeselector\": {\"buttons\": [{\"count\": 7, \"label\": \"1w\", \"step\": \"day\", \"stepmode\": \"backward\"}, {\"count\": 1, \"label\": \"1m\", \"step\": \"month\", \"stepmode\": \"backward\"}, {\"count\": 6, \"label\": \"6m\", \"step\": \"month\", \"stepmode\": \"backward\"}, {\"count\": 1, \"label\": \"YTD\", \"step\": \"year\", \"stepmode\": \"todate\"}, {\"count\": 1, \"label\": \"1y\", \"step\": \"year\", \"stepmode\": \"backward\"}, {\"step\": \"all\"}]}, \"showgrid\": true, \"type\": \"date\", \"zeroline\": false}, \"yaxis\": {\"autorange\": false, \"range\": [-1, 5], \"showgrid\": true, \"ticktext\": [\"9412ec5c-810f-494e-b365-eb8b5af0ee78\", \"3130f51e-b7c6-403f-85f3-70f8967ddcda\", \"bb75d176-b5db-4599-9a28-519a7f3972df\", \"2d24b479-640f-4372-9923-d2de60a3b28d\"], \"tickvals\": [0, 1, 2, 3], \"zeroline\": false}}, {\"showLink\": true, \"linkText\": \"Export to plot.ly\"})});</script>"
      ],
      "text/vnd.plotly.v1+html": [
       "<div id=\"5454def4-b48a-444e-a832-569f3a253281\" style=\"height: 600px; width: 900px;\" class=\"plotly-graph-div\"></div><script type=\"text/javascript\">require([\"plotly\"], function(Plotly) { window.PLOTLYENV=window.PLOTLYENV || {};window.PLOTLYENV.BASE_URL=\"https://plot.ly\";Plotly.newPlot(\"5454def4-b48a-444e-a832-569f3a253281\", [{\"marker\": {\"color\": \"white\"}, \"name\": \"\", \"x\": [\"2018-11-27T14:25:05.267797\", \"2018-11-27T14:25:13.096352\"], \"y\": [3, 3], \"type\": \"scatter\", \"uid\": \"2b425403-c7b8-43e0-aad7-c012942c3cf5\"}, {\"marker\": {\"color\": \"white\"}, \"name\": \"\", \"x\": [\"2018-11-27T14:25:05.418251\", \"2018-11-27T14:25:14.023431\"], \"y\": [2, 2], \"type\": \"scatter\", \"uid\": \"c4ca34ba-edf2-4b86-afc8-012d8e1d96f6\"}, {\"marker\": {\"color\": \"white\"}, \"name\": \"\", \"x\": [\"2018-11-27T14:25:53.583153\", \"2018-11-27T14:25:58.342391\"], \"y\": [1, 1], \"type\": \"scatter\", \"uid\": \"5b3de6b8-1333-460d-8f5e-985d6686b2d3\"}, {\"marker\": {\"color\": \"white\"}, \"name\": \"\", \"x\": [\"2018-11-27T14:25:54.161167\", \"2018-11-27T14:25:59.913361\"], \"y\": [0, 0], \"type\": \"scatter\", \"uid\": \"6df5f5c8-5cd0-4cf5-8230-5a9c9c8cda22\"}, {\"hoverinfo\": \"none\", \"marker\": {\"color\": \"rgb(33, 90, 12)\", \"size\": 1}, \"name\": \"connection\", \"showlegend\": true, \"x\": [\"2018-11-27T14:25:54.161167\", \"2018-11-27T14:25:54.161167\"], \"y\": [0, 0], \"type\": \"scatter\", \"uid\": \"3c82fa6c-a4b1-4715-9b9d-f65acc710219\"}], {\"height\": 600, \"hovermode\": \"closest\", \"shapes\": [{\"fillcolor\": \"rgb(33, 90, 12)\", \"line\": {\"width\": 0}, \"opacity\": 1, \"type\": \"rect\", \"x0\": \"2018-11-27T14:25:05.267797\", \"x1\": \"2018-11-27T14:25:13.096352\", \"xref\": \"x\", \"y0\": 2.8, \"y1\": 3.2, \"yref\": \"y\"}, {\"fillcolor\": \"rgb(33, 90, 12)\", \"line\": {\"width\": 0}, \"opacity\": 1, \"type\": \"rect\", \"x0\": \"2018-11-27T14:25:05.418251\", \"x1\": \"2018-11-27T14:25:14.023431\", \"xref\": \"x\", \"y0\": 1.8, \"y1\": 2.2, \"yref\": \"y\"}, {\"fillcolor\": \"rgb(33, 90, 12)\", \"line\": {\"width\": 0}, \"opacity\": 1, \"type\": \"rect\", \"x0\": \"2018-11-27T14:25:53.583153\", \"x1\": \"2018-11-27T14:25:58.342391\", \"xref\": \"x\", \"y0\": 0.8, \"y1\": 1.2, \"yref\": \"y\"}, {\"fillcolor\": \"rgb(33, 90, 12)\", \"line\": {\"width\": 0}, \"opacity\": 1, \"type\": \"rect\", \"x0\": \"2018-11-27T14:25:54.161167\", \"x1\": \"2018-11-27T14:25:59.913361\", \"xref\": \"x\", \"y0\": -0.2, \"y1\": 0.2, \"yref\": \"y\"}], \"showlegend\": true, \"title\": \"ITsim Network Events\", \"width\": 900, \"xaxis\": {\"rangeselector\": {\"buttons\": [{\"count\": 7, \"label\": \"1w\", \"step\": \"day\", \"stepmode\": \"backward\"}, {\"count\": 1, \"label\": \"1m\", \"step\": \"month\", \"stepmode\": \"backward\"}, {\"count\": 6, \"label\": \"6m\", \"step\": \"month\", \"stepmode\": \"backward\"}, {\"count\": 1, \"label\": \"YTD\", \"step\": \"year\", \"stepmode\": \"todate\"}, {\"count\": 1, \"label\": \"1y\", \"step\": \"year\", \"stepmode\": \"backward\"}, {\"step\": \"all\"}]}, \"showgrid\": true, \"type\": \"date\", \"zeroline\": false}, \"yaxis\": {\"autorange\": false, \"range\": [-1, 5], \"showgrid\": true, \"ticktext\": [\"9412ec5c-810f-494e-b365-eb8b5af0ee78\", \"3130f51e-b7c6-403f-85f3-70f8967ddcda\", \"bb75d176-b5db-4599-9a28-519a7f3972df\", \"2d24b479-640f-4372-9923-d2de60a3b28d\"], \"tickvals\": [0, 1, 2, 3], \"zeroline\": false}}, {\"showLink\": true, \"linkText\": \"Export to plot.ly\"})});</script>"
      ]
     },
     "metadata": {},
     "output_type": "display_data"
    }
   ],
   "source": [
    "fig = ff.create_gantt(df, title=\"ITsim Network Events\", colors=colors, index_col='Event_Name', showgrid_x=True, showgrid_y=True, show_colorbar=True, group_tasks=True)\n",
    "\n",
    "iplot(fig)"
   ]
  },
  {
   "cell_type": "code",
   "execution_count": null,
   "metadata": {},
   "outputs": [],
   "source": []
  },
  {
   "cell_type": "code",
   "execution_count": null,
   "metadata": {},
   "outputs": [],
   "source": []
  }
 ],
 "metadata": {
  "kernelspec": {
   "display_name": "itsimdash",
   "language": "python",
   "name": "itsimdash"
  },
  "language_info": {
   "codemirror_mode": {
    "name": "ipython",
    "version": 3
   },
   "file_extension": ".py",
   "mimetype": "text/x-python",
   "name": "python",
   "nbconvert_exporter": "python",
   "pygments_lexer": "ipython3",
   "version": "3.7.0"
  }
 },
 "nbformat": 4,
 "nbformat_minor": 2
}
